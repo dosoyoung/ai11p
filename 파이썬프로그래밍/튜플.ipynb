{
 "cells": [
  {
   "cell_type": "markdown",
   "metadata": {},
   "source": [
    "### 튜플(tuple): 불변형(immutable), 시퀀스형, ( ) : 소괄호사용, 중복허용"
   ]
  },
  {
   "cell_type": "code",
   "execution_count": 4,
   "metadata": {},
   "outputs": [
    {
     "name": "stdout",
     "output_type": "stream",
     "text": [
      "(1, 2, 3, 4, 5, 6) <class 'tuple'>\n"
     ]
    }
   ],
   "source": [
    "a = (1,2,3,4,5,6)\n",
    "print(a,type(a)) # <class 'tuple'>"
   ]
  },
  {
   "cell_type": "code",
   "execution_count": 11,
   "metadata": {},
   "outputs": [
    {
     "name": "stdout",
     "output_type": "stream",
     "text": [
      "1 2 3 6 5 2 1\n"
     ]
    }
   ],
   "source": [
    "# 인덱싱\n",
    "print(a[0],a[1],a[2],a[-1],a[-2],a[True],a[False])\n",
    "\n",
    "# a[0]  = 10  # TypeError , 불변형으로 요소 변경 불가"
   ]
  },
  {
   "cell_type": "code",
   "execution_count": 13,
   "metadata": {},
   "outputs": [
    {
     "name": "stdout",
     "output_type": "stream",
     "text": [
      "(10, 2, 3, 4, 5, 6)\n"
     ]
    }
   ],
   "source": [
    "b = list(a) # 형 변환\n",
    "b[0] = 10\n",
    "b = tuple(b)\n",
    "print(b)"
   ]
  },
  {
   "cell_type": "code",
   "execution_count": 19,
   "metadata": {},
   "outputs": [
    {
     "name": "stdout",
     "output_type": "stream",
     "text": [
      "(1, 2, 3, 4, 5, 6)\n",
      "(1, 3, 5)\n",
      "(6, 5, 4, 3, 2, 1)\n"
     ]
    }
   ],
   "source": [
    "# 슬라이싱\n",
    "print(a[:])\n",
    "print(a[::2])\n",
    "print(a[::-1])  # 순서를 거꾸로 변경\n",
    "\n",
    "# a[0:3] = (10,20,30) # TypeError , 불변형으로 요소 변경 불가"
   ]
  },
  {
   "cell_type": "code",
   "execution_count": 30,
   "metadata": {},
   "outputs": [
    {
     "name": "stdout",
     "output_type": "stream",
     "text": [
      "(1, 2, 'hello') <class 'tuple'>\n",
      "1 2 hello <class 'int'> <class 'int'> <class 'str'>\n"
     ]
    }
   ],
   "source": [
    "# 패킹(packing), 언패킹 튜플\n",
    "t = 1,2,'hello'  # 튜플은 괄호를 생략할수 있다, 쉼표로 데이터가 구분된다, 패킹\n",
    "print(t,type(t))\n",
    "x,y,z = t        # 언패킹\n",
    "print(x,y,z,type(x),type(y),type(z))"
   ]
  },
  {
   "cell_type": "code",
   "execution_count": 34,
   "metadata": {},
   "outputs": [
    {
     "name": "stdout",
     "output_type": "stream",
     "text": [
      "10 30\n"
     ]
    }
   ],
   "source": [
    "a,_,c,_ = 10,20,30,40  # 언패킹\n",
    "print(a,c)"
   ]
  },
  {
   "cell_type": "code",
   "execution_count": 41,
   "metadata": {},
   "outputs": [
    {
     "name": "stdout",
     "output_type": "stream",
     "text": [
      "1 2\n"
     ]
    }
   ],
   "source": [
    "t = (1,2,3,4,5,6)\n",
    "# a,b = t  # ValueError\n",
    "a,b,_,_,_,_ = t   # 언패킹될 요소의 갯수와 변수의 갯수를 일치시켜야한다,\n",
    "                  # '_':사용하지 않을 요소를 위한 변수\n",
    "print(a,b)"
   ]
  },
  {
   "cell_type": "code",
   "execution_count": 51,
   "metadata": {},
   "outputs": [
    {
     "name": "stdout",
     "output_type": "stream",
     "text": [
      "1\n",
      "[2, 3, 4, 5, 6]\n",
      "[1, 2, 3, 4, 5]\n",
      "6\n",
      "1 2 [3, 4, 5, 6]\n",
      "1 [2, 3, 4, 5] 6\n"
     ]
    }
   ],
   "source": [
    "# 확장된 언패킹\n",
    "t = (1,2,3,4,5,6)\n",
    "a,*b = t\n",
    "print(a)   # 첫번째 요소\n",
    "print(b)   # 나머지 요소를 모두 리스트로 할당\n",
    "\n",
    "*a,b = t\n",
    "print(a)   # 나머지 요소를 모두 리스트로 할당\n",
    "print(b)   # 마지막 요소\n",
    "\n",
    "a,b,*c = t\n",
    "print(a,b,c)\n",
    "\n",
    "a,*b,c = t\n",
    "print(a,b,c)\n",
    "\n",
    "# a,*b,*c = t  # SyntaxError"
   ]
  },
  {
   "cell_type": "code",
   "execution_count": null,
   "metadata": {},
   "outputs": [],
   "source": []
  }
 ],
 "metadata": {
  "kernelspec": {
   "display_name": "Python 3",
   "language": "python",
   "name": "python3"
  },
  "language_info": {
   "codemirror_mode": {
    "name": "ipython",
    "version": 3
   },
   "file_extension": ".py",
   "mimetype": "text/x-python",
   "name": "python",
   "nbconvert_exporter": "python",
   "pygments_lexer": "ipython3",
   "version": "3.7.6"
  }
 },
 "nbformat": 4,
 "nbformat_minor": 4
}
