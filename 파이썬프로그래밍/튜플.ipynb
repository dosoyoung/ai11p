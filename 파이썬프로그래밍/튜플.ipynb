{
 "cells": [
  {
   "cell_type": "markdown",
   "metadata": {},
   "source": [
    "### 튜플(tuple): 불변형(immutable), 시퀀스형, ( ) : 소괄호사용, 중복허용"
   ]
  },
  {
   "cell_type": "code",
   "execution_count": 1,
   "metadata": {
    "scrolled": true
   },
   "outputs": [
    {
     "name": "stdout",
     "output_type": "stream",
     "text": [
      "(1, 2, 3, 4, 5, 6) <class 'tuple'>\n"
     ]
    }
   ],
   "source": [
    "a = (1,2,3,4,5,6)\n",
    "print(a,type(a)) # <class 'tuple'>"
   ]
  },
  {
   "cell_type": "code",
   "execution_count": 2,
   "metadata": {},
   "outputs": [
    {
     "name": "stdout",
     "output_type": "stream",
     "text": [
      "1 2 3 6 5 2 1\n"
     ]
    }
   ],
   "source": [
    "# 인덱싱\n",
    "print(a[0],a[1],a[2],a[-1],a[-2],a[True],a[False])\n",
    "\n",
    "# a[0]  = 10  # TypeError , 불변형으로 요소 변경 불가"
   ]
  },
  {
   "cell_type": "code",
   "execution_count": 3,
   "metadata": {},
   "outputs": [
    {
     "name": "stdout",
     "output_type": "stream",
     "text": [
      "(10, 2, 3, 4, 5, 6)\n"
     ]
    }
   ],
   "source": [
    "b = list(a) # 형 변환\n",
    "b[0] = 10\n",
    "b = tuple(b)\n",
    "print(b)"
   ]
  },
  {
   "cell_type": "code",
   "execution_count": 4,
   "metadata": {},
   "outputs": [
    {
     "name": "stdout",
     "output_type": "stream",
     "text": [
      "(1, 2, 3, 4, 5, 6)\n",
      "(1, 3, 5)\n",
      "(6, 5, 4, 3, 2, 1)\n"
     ]
    }
   ],
   "source": [
    "# 슬라이싱\n",
    "print(a[:])\n",
    "print(a[::2])\n",
    "print(a[::-1])  # 순서를 거꾸로 변경\n",
    "\n",
    "# a[0:3] = (10,20,30) # TypeError , 불변형으로 요소 변경 불가"
   ]
  },
  {
   "cell_type": "code",
   "execution_count": 5,
   "metadata": {},
   "outputs": [
    {
     "name": "stdout",
     "output_type": "stream",
     "text": [
      "(1, 2, 'hello') <class 'tuple'>\n",
      "1 2 hello <class 'int'> <class 'int'> <class 'str'>\n"
     ]
    }
   ],
   "source": [
    "# 패킹(packing), 언패킹 튜플\n",
    "t = 1,2,'hello'  # 튜플은 괄호를 생략할수 있다, 쉼표로 데이터가 구분된다, 패킹\n",
    "print(t,type(t))\n",
    "x,y,z = t        # 언패킹\n",
    "print(x,y,z,type(x),type(y),type(z))"
   ]
  },
  {
   "cell_type": "code",
   "execution_count": 6,
   "metadata": {},
   "outputs": [
    {
     "name": "stdout",
     "output_type": "stream",
     "text": [
      "10 30\n"
     ]
    }
   ],
   "source": [
    "a,_,c,_ = 10,20,30,40  # 언패킹\n",
    "print(a,c)"
   ]
  },
  {
   "cell_type": "code",
   "execution_count": 7,
   "metadata": {},
   "outputs": [
    {
     "name": "stdout",
     "output_type": "stream",
     "text": [
      "1 2\n"
     ]
    }
   ],
   "source": [
    "t = (1,2,3,4,5,6)\n",
    "# a,b = t  # ValueError\n",
    "a,b,_,_,_,_ = t   # 언패킹될 요소의 갯수와 변수의 갯수를 일치시켜야한다,\n",
    "                  # '_':사용하지 않을 요소를 위한 변수\n",
    "print(a,b)\n",
    "\n"
   ]
  },
  {
   "cell_type": "code",
   "execution_count": 8,
   "metadata": {},
   "outputs": [
    {
     "name": "stdout",
     "output_type": "stream",
     "text": [
      "1\n",
      "[2, 3, 4, 5, 6]\n",
      "[1, 2, 3, 4, 5]\n",
      "6\n",
      "1 2 [3, 4, 5, 6]\n",
      "1 [2, 3, 4, 5] 6\n"
     ]
    }
   ],
   "source": [
    "# 확장된 언패킹\n",
    "t = (1,2,3,4,5,6)\n",
    "a,*b = t\n",
    "print(a)   # 첫번째 요소\n",
    "print(b)   # 나머지 요소를 모두 리스트로 할당\n",
    "\n",
    "*a,b = t\n",
    "print(a)   # 나머지 요소를 모두 리스트로 할당\n",
    "print(b)   # 마지막 요소\n",
    "\n",
    "a,b,*c = t\n",
    "print(a,b,c)\n",
    "\n",
    "a,*b,c = t\n",
    "print(a,b,c)\n",
    "\n",
    "# a,*b,*c = t  # SyntaxError"
   ]
  },
  {
   "cell_type": "code",
   "execution_count": 16,
   "metadata": {},
   "outputs": [
    {
     "name": "stdout",
     "output_type": "stream",
     "text": [
      "1 2\n",
      "h i\n",
      "h\n",
      "['e', 'l', 'l', 'o']\n"
     ]
    }
   ],
   "source": [
    "# 리스트와 문자열도 언패킹과 확장 언패킹\n",
    "a,b = [1,2]\n",
    "print(a,b)\n",
    "\n",
    "a,b = 'hi'\n",
    "print(a,b)\n",
    "\n",
    "a,*b = 'hello'\n",
    "print(a)\n",
    "print(b)   # 나머지 요소를 모두 리스트로 할당"
   ]
  },
  {
   "cell_type": "code",
   "execution_count": 22,
   "metadata": {},
   "outputs": [
    {
     "name": "stdout",
     "output_type": "stream",
     "text": [
      "<class 'int'>\n",
      "<class 'int'>\n",
      "<class 'tuple'>\n",
      "<class 'tuple'>\n",
      "<class 'list'>\n"
     ]
    }
   ],
   "source": [
    "t = ()        # 빈 튜플\n",
    "t = []        # 빈 리스트\n",
    "\n",
    "t = (10)\n",
    "print(type(t)) # <class 'int'>\n",
    "\n",
    "t = 10\n",
    "print(type(t)) # <class 'int'>\n",
    "\n",
    "t = (10,)\n",
    "print(type(t)) # <class 'tuple'>\n",
    "\n",
    "t = 10,\n",
    "print(type(t)) # <class 'tuple'>\n",
    "\n",
    "t = [10]\n",
    "print(type(t)) # <class 'list'>"
   ]
  },
  {
   "cell_type": "code",
   "execution_count": 26,
   "metadata": {},
   "outputs": [
    {
     "name": "stdout",
     "output_type": "stream",
     "text": [
      "2 1\n",
      "5 3\n"
     ]
    }
   ],
   "source": [
    "# 두 개의 값을 서로 변경하는 코드\n",
    "#  x : 1, y : 2\n",
    "\n",
    "# (1) 전통 언어 방식\n",
    "x = 1\n",
    "y = 2\n",
    "temp = x\n",
    "x = y\n",
    "y = temp\n",
    "print(x,y)\n",
    "\n",
    "# (2) 파이썬 방식(튜플의 언패킹 사용)\n",
    "x,y = 1,2\n",
    "x,y = y,x\n",
    "print(x,y)"
   ]
  },
  {
   "cell_type": "code",
   "execution_count": 32,
   "metadata": {},
   "outputs": [
    {
     "name": "stdout",
     "output_type": "stream",
     "text": [
      "(1, 2, 3, 'apple', 'banana')\n",
      "(1, 2, 3, 'apple', 'banana')\n",
      "(1, 2, 3, 'apple', 'banana', 1, 2, 3, 'apple', 'banana', 1, 2, 3, 'apple', 'banana')\n",
      "6\n",
      "3\n"
     ]
    }
   ],
   "source": [
    "# 연산자\n",
    "t1 = (1,2,3)\n",
    "t2 = ('apple','banana')\n",
    "t3 = t1 + t2\n",
    "print(t3)\n",
    "\n",
    "t3 = t1.__add__(t2)\n",
    "print(t3)\n",
    "\n",
    "t4 = t3*3\n",
    "print(t4)\n",
    "\n",
    "print(sum(t1))\n",
    "print(len(t1))"
   ]
  },
  {
   "cell_type": "code",
   "execution_count": 34,
   "metadata": {},
   "outputs": [
    {
     "name": "stdout",
     "output_type": "stream",
     "text": [
      "3\n"
     ]
    }
   ],
   "source": [
    "t = (1,2,3,4,2,2,3)\n",
    "print(t.count(2))  # 요소 2의 갯수"
   ]
  },
  {
   "cell_type": "code",
   "execution_count": 36,
   "metadata": {},
   "outputs": [
    {
     "name": "stdout",
     "output_type": "stream",
     "text": [
      "1\n",
      "4\n"
     ]
    }
   ],
   "source": [
    "print(t.index(2))   # 요소 2 가 처음 나오는 위치(인덱스)를 반환\n",
    "print(t.index(2,3)) # 요소 2 를 인덱스 3부터 나오는 위치(인덱스)를 반환"
   ]
  },
  {
   "cell_type": "code",
   "execution_count": 38,
   "metadata": {},
   "outputs": [],
   "source": [
    "# del t[0]  # TypeError, 불변형이므로 요소 삭제 불가"
   ]
  },
  {
   "cell_type": "code",
   "execution_count": 60,
   "metadata": {},
   "outputs": [
    {
     "name": "stdout",
     "output_type": "stream",
     "text": [
      "0 1 2\n",
      "0 [1, 2, 3, 4, 5, 6, 7, 8] 9\n",
      "1 7\n"
     ]
    },
    {
     "data": {
      "text/plain": [
       "1"
      ]
     },
     "execution_count": 60,
     "metadata": {},
     "output_type": "execute_result"
    }
   ],
   "source": [
    "a,b,c = range(3)  # 언패킹\n",
    "print(a,b,c)    \n",
    "\n",
    "a,*b,c = range(10)  # 확장 언패킹\n",
    "print(a,b,c)  \n",
    "\n",
    "Sun,Mon,Tue,Wed,Thu,Fri,Sat = range(1,8)\n",
    "print(Sun,Sat)\n",
    "\n",
    "globals()['Sun'] # 파이썬 내부의 할당된 객체의 key와 value를 dict형으로 출력"
   ]
  },
  {
   "cell_type": "code",
   "execution_count": null,
   "metadata": {},
   "outputs": [],
   "source": []
  }
 ],
 "metadata": {
  "kernelspec": {
   "display_name": "Python 3",
   "language": "python",
   "name": "python3"
  },
  "language_info": {
   "codemirror_mode": {
    "name": "ipython",
    "version": 3
   },
   "file_extension": ".py",
   "mimetype": "text/x-python",
   "name": "python",
   "nbconvert_exporter": "python",
   "pygments_lexer": "ipython3",
   "version": "3.7.6"
  }
 },
 "nbformat": 4,
 "nbformat_minor": 4
}
