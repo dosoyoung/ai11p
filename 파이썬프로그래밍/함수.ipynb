{
 "cells": [
  {
   "cell_type": "markdown",
   "metadata": {},
   "source": [
    "### 함수(function)"
   ]
  },
  {
   "cell_type": "code",
   "execution_count": 15,
   "metadata": {},
   "outputs": [],
   "source": [
    "# 함수 정의 방법\n",
    "# '''\n",
    "# def 함수명(매개변수,....):\n",
    "#     <수행할 문장1>\n",
    "#     <수행할 문장2>\n",
    "#     <수행할 문장3>\n",
    "#     ...\n",
    "#     return 반환할 값\n",
    "# '''"
   ]
  },
  {
   "cell_type": "code",
   "execution_count": 2,
   "metadata": {},
   "outputs": [
    {
     "name": "stdout",
     "output_type": "stream",
     "text": [
      "<class 'function'>\n",
      "add is called!\n",
      "30\n",
      "subtract is called!\n",
      "-10\n",
      "multiply is called!\n",
      "200\n",
      "divide is called!\n",
      "0.5\n",
      "add is called!\n",
      "7\n",
      "add is called!\n",
      "GoodMorning\n",
      "add is called!\n",
      "[1, 2, 3, 4, 5, 6]\n"
     ]
    }
   ],
   "source": [
    "# 함수 정의\n",
    "def add(a,b):\n",
    "    c = a + b\n",
    "    print('add is called!')\n",
    "    return c\n",
    "\n",
    "def subtract(a,b):\n",
    "    c = a - b\n",
    "    print('subtract is called!')\n",
    "    return c\n",
    "\n",
    "def multiply(a,b):\n",
    "    c = a * b\n",
    "    print('multiply is called!')\n",
    "    return c\n",
    "\n",
    "def divide(a,b):\n",
    "    c = a / b\n",
    "    print('divide is called!')\n",
    "    return c\n",
    "\n",
    "print(type(add))\n",
    "\n",
    "# 함수 호출\n",
    "ret = add(10,20)\n",
    "print(ret)\n",
    "\n",
    "ret = subtract(10,20)\n",
    "print(ret)\n",
    "\n",
    "ret = multiply(10,20)\n",
    "print(ret)\n",
    "\n",
    "ret = divide(10,20)\n",
    "print(ret)\n",
    "\n",
    "print(add(3,4))\n",
    "print(add('Good','Morning'))\n",
    "print(add([1,2,3],[4,5,6]))"
   ]
  },
  {
   "cell_type": "code",
   "execution_count": 3,
   "metadata": {},
   "outputs": [],
   "source": [
    "# 수학 함수\n",
    "# f(x) = 10*x + 1\n",
    "# f(2) = 10*2 + 1 = 21\n",
    "# f(x1,x2) = x1 + x2\n",
    "# f(10,20) = 10 + 20 = 30"
   ]
  },
  {
   "cell_type": "markdown",
   "metadata": {},
   "source": [
    "### 함수 구현 순서\n",
    "#### (1) def를 사용하고 함수 이름을 결정\n",
    "#### (2) 매개변수(인자)를 결정\n",
    "#### (3) 인자를 사용하여 처리하는 코드를 구현\n",
    "#### (4) return 을 사용하여 결과값을 반환\n",
    "#### (5) 인자를 설정하여 함수를 호출하여 결과를 확인"
   ]
  },
  {
   "cell_type": "code",
   "execution_count": 4,
   "metadata": {},
   "outputs": [
    {
     "name": "stdout",
     "output_type": "stream",
     "text": [
      "f_1 is called!\n",
      "None\n"
     ]
    }
   ],
   "source": [
    "# 함수의 유형 4가지\n",
    "# [1] 반환값이 없고 인자도 없는 경우\n",
    "def f_1():\n",
    "    print('f_1 is called!')\n",
    "    \n",
    "ret = f_1()\n",
    "print(ret)   # None"
   ]
  },
  {
   "cell_type": "code",
   "execution_count": 5,
   "metadata": {},
   "outputs": [
    {
     "name": "stdout",
     "output_type": "stream",
     "text": [
      "f_2 is called!\n",
      "13 30\n",
      "None\n"
     ]
    }
   ],
   "source": [
    "# [2] 반환값이 없고 인자가 있는 경우\n",
    "def f_2(a,b):\n",
    "    print('f_2 is called!')\n",
    "    print(a + b, a * b)\n",
    "\n",
    "ret = f_2(10,3)\n",
    "print(ret)"
   ]
  },
  {
   "cell_type": "code",
   "execution_count": 6,
   "metadata": {},
   "outputs": [
    {
     "name": "stdout",
     "output_type": "stream",
     "text": [
      "f_3 is called!\n",
      "('Bread', 'Butter', 100, [1, 2, 3])\n",
      "<class 'tuple'>\n",
      "f_3 is called!\n",
      "Bread Butter 100\n"
     ]
    }
   ],
   "source": [
    "# [3] 반환값이 있고 인자가 없는 경우\n",
    "def f_3():\n",
    "    print('f_3 is called!')\n",
    "    return 'Bread','Butter',100,[1,2,3]\n",
    "\n",
    "ret = f_3()   \n",
    "print(ret)\n",
    "print(type(ret))  # <class 'tuple'>\n",
    "\n",
    "a,b,c,_ = f_3()  # 튜플의 언패킹\n",
    "print(a,b,c)"
   ]
  },
  {
   "cell_type": "code",
   "execution_count": 7,
   "metadata": {},
   "outputs": [
    {
     "name": "stdout",
     "output_type": "stream",
     "text": [
      "f_4 is called!\n",
      "(8, -2, 15, 0.6)\n"
     ]
    }
   ],
   "source": [
    "# [4] 반환값이 있고 인자도 있는 경우\n",
    "def f_4(a,b):\n",
    "    print('f_4 is called!')\n",
    "    return a+b,a-b,a*b,a/b\n",
    "\n",
    "print(f_4(3,5))"
   ]
  },
  {
   "cell_type": "code",
   "execution_count": 8,
   "metadata": {},
   "outputs": [
    {
     "name": "stdout",
     "output_type": "stream",
     "text": [
      "(5, 3)\n",
      "(5, 3)\n"
     ]
    }
   ],
   "source": [
    "# Quiz 1 : 두 개의 정수형 인자를 주면, 큰 수, 작은 수의 순서로 반환하는 함수 order()를 구현\n",
    "# 3,5 ==> 5,3\n",
    "# 5,3 ==> 5,3\n",
    "def order(a,b):\n",
    "    if a < b:\n",
    "        a,b = b,a            \n",
    "    return a,b\n",
    "print(order(5,3))  # (5,3)\n",
    "print(order(3,5))  # (5,3)"
   ]
  },
  {
   "cell_type": "code",
   "execution_count": 9,
   "metadata": {},
   "outputs": [
    {
     "name": "stdout",
     "output_type": "stream",
     "text": [
      "30\n",
      "30\n"
     ]
    }
   ],
   "source": [
    "# Quiz 2 : 두 개의 정수형 인자를 주면  큰 수를 반환하는 함수 max()를 구현\n",
    "def max(a,b):\n",
    "    if a > b:\n",
    "        return a\n",
    "    return b\n",
    "print(max(10,30))\n",
    "print(max(30,10))"
   ]
  },
  {
   "cell_type": "code",
   "execution_count": 10,
   "metadata": {},
   "outputs": [
    {
     "name": "stdout",
     "output_type": "stream",
     "text": [
      "5.5\n",
      "50.5\n"
     ]
    }
   ],
   "source": [
    "# Quiz 3 : 정수를 요소로 갖는 리스트를 인자로 주면, 리스트의 평균을 반환하는 함수 mean()를 구현\n",
    "#          내장 함수인 sum(),len()을 사용 가능  \n",
    "def mean(l):\n",
    "    return sum(l)/len(l)\n",
    "print(mean([1,2,3,4,5,6,7,8,9,10]))\n",
    "print(mean(list(range(1,101))))"
   ]
  },
  {
   "cell_type": "code",
   "execution_count": 11,
   "metadata": {},
   "outputs": [],
   "source": [
    "# globals()  # 파이썬의 전역 심볼 테이블을 얻는 함수"
   ]
  },
  {
   "cell_type": "code",
   "execution_count": 12,
   "metadata": {},
   "outputs": [
    {
     "name": "stdout",
     "output_type": "stream",
     "text": [
      "10 20\n",
      "() <class 'tuple'>\n",
      "30\n",
      "10 20\n",
      "(30,) <class 'tuple'>\n",
      "60\n",
      "10 20\n",
      "(30, 40, 50, 60, 70, 80, 90, 100) <class 'tuple'>\n",
      "550\n"
     ]
    }
   ],
   "source": [
    "# 인자가 고정되지 않은 함수 처리 방법\n",
    "\n",
    "# (1) *인자 : tuple방식, 가변 인수\n",
    "def add_many(a,b,*args):\n",
    "    total = a + b\n",
    "    print(a,b)\n",
    "    print(args,type(args))  # <class 'tuple'>\n",
    "    for k in args:\n",
    "        total += k\n",
    "    return total\n",
    "\n",
    "print(add_many(10,20))\n",
    "print(add_many(10,20,30))\n",
    "print(add_many(10,20,30,40,50,60,70,80,90,100)) "
   ]
  },
  {
   "cell_type": "code",
   "execution_count": 13,
   "metadata": {},
   "outputs": [
    {
     "name": "stdout",
     "output_type": "stream",
     "text": [
      "10 20\n",
      "{'depth': 5, 'dimension': 7} <class 'dict'>\n"
     ]
    }
   ],
   "source": [
    "# (2) **인자 : dict형식, 키워드 인수\n",
    "def func(width,height,**kw):\n",
    "    print(width,height)\n",
    "    print(kw,type(kw))  # <class 'dict'>\n",
    "#   print(list(kw.keys())[0])\n",
    "    \n",
    "func(width=10,height=20,depth=5,dimension=7)    "
   ]
  },
  {
   "cell_type": "code",
   "execution_count": 14,
   "metadata": {},
   "outputs": [
    {
     "name": "stdout",
     "output_type": "stream",
     "text": [
      "None 30 000-0000-0000 True\n",
      "kim 20 010-1234-1234 False\n",
      "kim 20 000-0000-0000 True\n",
      "park 20 000-0000-0000 True\n",
      "ko 10 000-0000-0000 False\n"
     ]
    }
   ],
   "source": [
    "# 기본 인수 , default 인수\n",
    "def show_info(name=None,age=30,phone='000-0000-0000',emp=True):\n",
    "    print(name,age,phone,emp)\n",
    "    \n",
    "show_info()  # 실행 OK!!\n",
    "show_info('kim',20,'010-1234-1234',False)\n",
    "show_info('kim',20)\n",
    "\n",
    "show_info(age = 20,name='park')\n",
    "show_info('ko',10, emp=False)"
   ]
  },
  {
   "cell_type": "markdown",
   "metadata": {},
   "source": [
    "### 일급 함수(First Class Function) : 함수 이름을 변수처럼 사용 가능하다\n",
    "#### (1) 함수 객체를 다른 함수의 인자로 전달할 수 있다\n",
    "#### (2) 함수 객체를 다른 함수에서 반환 값으로 전달할 수 있다\n",
    "#### (3) 함수 객체를 다른 자료 구조에 저장해서 사용 가능"
   ]
  },
  {
   "cell_type": "code",
   "execution_count": 22,
   "metadata": {},
   "outputs": [
    {
     "name": "stdout",
     "output_type": "stream",
     "text": [
      "func_two is called!!\n",
      "add_two is called!!\n",
      "30\n"
     ]
    }
   ],
   "source": [
    "# (1) 함수 객체를 다른 함수의 인자로 전달할 수 있다\n",
    "def add_two(a,b):                      # (5)\n",
    "    print('add_two is called!!')       # (6) \n",
    "    return a + b                       # (7)\n",
    "\n",
    "# b = add_two    # <class 'function'>\n",
    "# print(type(b))\n",
    "# print(b(10,20))\n",
    "\n",
    "def func_two(func,a,b):                # (2)\n",
    "    print('func_two is called!!')      # (3)\n",
    "    result = func(a,b)                 # (4)\n",
    "    return result                      # (8)\n",
    "\n",
    "ret = func_two(add_two,10,20)          # (1)\n",
    "print(ret)                             # (9)"
   ]
  },
  {
   "cell_type": "code",
   "execution_count": 27,
   "metadata": {},
   "outputs": [
    {
     "name": "stdout",
     "output_type": "stream",
     "text": [
      "foo2 is called!!\n",
      "<class 'function'>\n",
      "bar2 is called!!\n"
     ]
    }
   ],
   "source": [
    "# (2) 함수 객체를 다른 함수에서 반환 값으로 전달할 수 있다\n",
    "def foo2():\n",
    "    print('foo2 is called!!')\n",
    "    \n",
    "    def bar2():\n",
    "        print('bar2 is called!!')\n",
    "        \n",
    "    return bar2\n",
    "\n",
    "ret = foo2()\n",
    "print(type(ret))\n",
    "ret()"
   ]
  },
  {
   "cell_type": "code",
   "execution_count": 33,
   "metadata": {},
   "outputs": [
    {
     "name": "stdout",
     "output_type": "stream",
     "text": [
      "[<function add at 0x000002505BB63A68>, <function subtract at 0x000002505BB63E58>, <function multiply at 0x000002505BB63D38>, <function divide at 0x000002505BA66D38>]\n",
      "add is called!\n",
      "30\n",
      "subtract is called!\n",
      "-10\n"
     ]
    }
   ],
   "source": [
    "# (3) 함수 객체를 다른 자료 구조에 저장해서 사용 가능\n",
    "# 함수 정의\n",
    "def add(a,b):\n",
    "    c = a + b\n",
    "    print('add is called!')\n",
    "    return c\n",
    "\n",
    "def subtract(a,b):\n",
    "    c = a - b\n",
    "    print('subtract is called!')\n",
    "    return c\n",
    "\n",
    "def multiply(a,b):\n",
    "    c = a * b\n",
    "    print('multiply is called!')\n",
    "    return c\n",
    "\n",
    "def divide(a,b):\n",
    "    c = a / b\n",
    "    print('divide is called!')\n",
    "    return c\n",
    "\n",
    "# list 사용\n",
    "func_list = [add,subtract,multiply,divide]\n",
    "print(func_list)\n",
    "\n",
    "ret = func_list[0](10,20)\n",
    "print(ret)\n",
    "\n",
    "ret = func_list[1](10,20)\n",
    "print(ret)"
   ]
  },
  {
   "cell_type": "code",
   "execution_count": 35,
   "metadata": {},
   "outputs": [
    {
     "name": "stdout",
     "output_type": "stream",
     "text": [
      "add is called!\n",
      "60\n",
      "subtract is called!\n",
      "-20\n"
     ]
    }
   ],
   "source": [
    "# dict 사용\n",
    "func_dict = {'add함수':add,'subtract함수':subtract,'multiply함수':multiply,'divide함수':divide}\n",
    "\n",
    "ret = func_dict['add함수'](20,40)\n",
    "print(ret)\n",
    "\n",
    "ret = func_dict['subtract함수'](20,40)\n",
    "print(ret)"
   ]
  },
  {
   "cell_type": "markdown",
   "metadata": {},
   "source": [
    "### 람다(lambda) 함수, 람다식\n",
    "#### : 한줄 짜리 함수식, 식을 정의하는 순간 바로 함수 객체로 사용, 바로 인수로 전달할 수 있다, def 키워드를 사용하지 않는다\n",
    "#### 함수명 = lambda 인수1,인수2,.. :  반환할 식"
   ]
  },
  {
   "cell_type": "code",
   "execution_count": 44,
   "metadata": {},
   "outputs": [
    {
     "name": "stdout",
     "output_type": "stream",
     "text": [
      "add\n"
     ]
    },
    {
     "data": {
      "text/plain": [
       "1"
      ]
     },
     "execution_count": 44,
     "metadata": {},
     "output_type": "execute_result"
    }
   ],
   "source": [
    "# def add(a,b):\n",
    "#     return a + b\n",
    "# add(10,20)\n",
    "\n",
    "add_new = lambda a,b : a + b\n",
    "add_new(10,20)\n",
    "\n",
    "add_new = lambda a,b : (a + b,print('add'),a - b)\n",
    "add_new(10,20)\n",
    "\n",
    "f = lambda  : 1\n",
    "f()        # 항상 1만 반환하는 함수"
   ]
  },
  {
   "cell_type": "code",
   "execution_count": null,
   "metadata": {},
   "outputs": [],
   "source": []
  },
  {
   "cell_type": "code",
   "execution_count": null,
   "metadata": {},
   "outputs": [],
   "source": []
  }
 ],
 "metadata": {
  "kernelspec": {
   "display_name": "Python 3",
   "language": "python",
   "name": "python3"
  },
  "language_info": {
   "codemirror_mode": {
    "name": "ipython",
    "version": 3
   },
   "file_extension": ".py",
   "mimetype": "text/x-python",
   "name": "python",
   "nbconvert_exporter": "python",
   "pygments_lexer": "ipython3",
   "version": "3.7.6"
  }
 },
 "nbformat": 4,
 "nbformat_minor": 4
}
