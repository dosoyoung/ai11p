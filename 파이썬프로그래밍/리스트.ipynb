{
 "cells": [
  {
   "cell_type": "markdown",
   "metadata": {},
   "source": [
    "### 리스트(list) : 가변형(mutable), 시퀀스형, 가장 유용한 자료형, [ ]: 대괄호 사용, 요소의 중복허용"
   ]
  },
  {
   "cell_type": "code",
   "execution_count": 48,
   "metadata": {},
   "outputs": [
    {
     "name": "stdout",
     "output_type": "stream",
     "text": [
      "[1, 2, 3, 4, 5, 6]\n",
      "<class 'list'>\n",
      "['a', 'hello', 1, 3.5, [1, 2, 3, 4, 5, 6], 3.5, 1]\n"
     ]
    }
   ],
   "source": [
    "a = [1,2,3,4,5,6]\n",
    "print(a)\n",
    "print(type(a))   # <class 'list'>\n",
    "\n",
    "b = ['a','hello',1,3.5,a,3.5,1]\n",
    "print(b)"
   ]
  },
  {
   "cell_type": "code",
   "execution_count": 8,
   "metadata": {},
   "outputs": [
    {
     "name": "stdout",
     "output_type": "stream",
     "text": [
      "1 2 3 6 5 2 1\n",
      "[10, 2, 3, 4, 5, 6]\n",
      "['hi', 3.14, 0, 0, 0]\n"
     ]
    }
   ],
   "source": [
    "# 인덱싱\n",
    "a = [1,2,3,4,5,6]\n",
    "print(a[0],a[1],a[2],a[-1],a[-2],a[True],a[False])\n",
    "\n",
    "a[0] = 10   # 가변형이므로 요소 변경이 가능하다\n",
    "print(a)\n",
    "\n",
    "a = [0,0,0,0,0]\n",
    "a[0] = 'hi'\n",
    "a[1] = 3.14\n",
    "print(a)"
   ]
  },
  {
   "cell_type": "code",
   "execution_count": 27,
   "metadata": {},
   "outputs": [
    {
     "name": "stdout",
     "output_type": "stream",
     "text": [
      "[1, 2, 3, 4, 5, 6]\n",
      "[2]\n",
      "2\n",
      "[1, 4]\n",
      "[6, 5, 4, 3, 2, 1]\n",
      "[1, 20, 30, 40, 4, 5, 6]\n"
     ]
    }
   ],
   "source": [
    "# 슬라이싱 : a[start:end + 1:step]\n",
    "a = [1,2,3,4,5,6]\n",
    "print(a[:])\n",
    "print(a[1:2])   # List\n",
    "print(a[1])     # int형, scalar\n",
    "\n",
    "print(a[::3])\n",
    "print(a[::-1])  # 요소의 순서를 거꾸로 변경한다\n",
    "\n",
    "a[1:3] = [20,30,40]  # 가변형이므로 요소 변경이 가능하다\n",
    "print(a)"
   ]
  },
  {
   "cell_type": "code",
   "execution_count": 44,
   "metadata": {},
   "outputs": [
    {
     "name": "stdout",
     "output_type": "stream",
     "text": [
      "[0, 1, 2, 3, 4, 5, 6, 7, 8, 9]\n",
      "[0, 1, 2, 3, 4, 5, 6, 7, 8, 9]\n",
      "[0, 1, 2, 3, 4, 5, 6, 7, 8, 9]\n",
      "[-10, -8, -6, -4, -2, 0, 2, 4, 6, 8, 10]\n",
      "[1, 3, 5, 7, 9, 11, 13, 15, 17, 19, 21, 23, 25, 27, 29, 31, 33, 35, 37, 39, 41, 43, 45, 47, 49, 51, 53, 55, 57, 59, 61, 63, 65, 67, 69, 71, 73, 75, 77, 79, 81, 83, 85, 87, 89, 91, 93, 95, 97, 99]\n",
      "[2, 4, 6, 8, 10, 12, 14, 16, 18, 20, 22, 24, 26, 28, 30, 32, 34, 36, 38, 40, 42, 44, 46, 48, 50, 52, 54, 56, 58, 60, 62, 64, 66, 68, 70, 72, 74, 76, 78, 80, 82, 84, 86, 88, 90, 92, 94, 96, 98, 100]\n"
     ]
    }
   ],
   "source": [
    "# range(start,end + 1,step)\n",
    "print(list(range(0,10,1)))\n",
    "print(list(range(10)))\n",
    "print(list(range(0,10)))\n",
    "\n",
    "print(list(range(-10,11,2)))\n",
    "\n",
    "print(list(range(1,100,2))) # 1~100 까지 홀수\n",
    "print(list(range(2,101,2))) # 1~100 까지 짝수"
   ]
  },
  {
   "cell_type": "code",
   "execution_count": 52,
   "metadata": {},
   "outputs": [
    {
     "name": "stdout",
     "output_type": "stream",
     "text": [
      "10\n",
      "55\n",
      "10\n",
      "1\n"
     ]
    }
   ],
   "source": [
    "a = [1,2,3,4,5,6,7,8,9,10]\n",
    "print(len(a))  # 요소의 갯수, byte size가 아니다\n",
    "print(sum(a))  # 요소의 합\n",
    "print(max(a))  # 최대값\n",
    "print(min(a))  # 최소값 "
   ]
  },
  {
   "cell_type": "code",
   "execution_count": 2,
   "metadata": {},
   "outputs": [
    {
     "name": "stdout",
     "output_type": "stream",
     "text": [
      "[1, 2, 3, 3, 4, 5]\n",
      "[1, 2, 3, 1, 2, 3, 1, 2, 3, 1, 2, 3, 1, 2, 3]\n"
     ]
    }
   ],
   "source": [
    "# 연산 : +, *\n",
    "a = [1,2,3]\n",
    "b = [3,4,5]\n",
    "c = a + b\n",
    "print(c)\n",
    "print(a*5)"
   ]
  },
  {
   "cell_type": "code",
   "execution_count": 8,
   "metadata": {},
   "outputs": [
    {
     "name": "stdout",
     "output_type": "stream",
     "text": [
      "True\n",
      "False\n",
      "[4, 5]\n"
     ]
    }
   ],
   "source": [
    "print(3 in a) # 리스트 a내에 요소 3 이 들어 있는가, True/False\n",
    "print(4 in a)\n",
    "\n",
    "# str1 = 'hello'\n",
    "# del str1[0]\n",
    "\n",
    "b = [3,4,5]\n",
    "del b[0]      # 가변형이므로 요소의 삭제가 가능하다, 원본이 변경됨\n",
    "print(b)"
   ]
  },
  {
   "cell_type": "code",
   "execution_count": 13,
   "metadata": {},
   "outputs": [
    {
     "name": "stdout",
     "output_type": "stream",
     "text": [
      "[1, 2, 3, 4]\n",
      "None\n",
      "[1, 2, 3, 4, [5, 6]]\n"
     ]
    }
   ],
   "source": [
    "# list의 연산자\n",
    "# 추가\n",
    "a = [1,2,3]\n",
    "b = a.append(4)  # 마지막에 요소 4를 추가 , 반환 값을 사용하지 안음\n",
    "print(a)    # 원본이 변경\n",
    "print(b)    # None : 데이터 타입이 정해지지 않은 객체\n",
    "print(type(None)) # <class 'NoneType'>\n",
    "\n",
    "a.append([5,6]) # 리스트를 요소로 추가\n",
    "print(a)"
   ]
  },
  {
   "cell_type": "code",
   "execution_count": 26,
   "metadata": {},
   "outputs": [
    {
     "name": "stdout",
     "output_type": "stream",
     "text": [
      "[] <class 'list'>\n",
      "[0, 1, 2, 3, 4, 5, 6, 7, 8, 9]\n"
     ]
    }
   ],
   "source": [
    "a = []  # 빈 리스트\n",
    "print(a,type(a))\n",
    "# a[0] = 10  # IndexError: list assignment index out of range\n",
    "for k in range(10):\n",
    "#     print(k)\n",
    "    a.append(k)\n",
    "print(a)    "
   ]
  },
  {
   "cell_type": "code",
   "execution_count": 27,
   "metadata": {},
   "outputs": [
    {
     "data": {
      "text/plain": [
       "[1, 1.5, 2, 3]"
      ]
     },
     "execution_count": 27,
     "metadata": {},
     "output_type": "execute_result"
    }
   ],
   "source": [
    "# 삽입 : insert(인덱스,데이터)\n",
    "a = [1,2,3]\n",
    "a.insert(1,1.5)\n",
    "a"
   ]
  },
  {
   "cell_type": "code",
   "execution_count": 30,
   "metadata": {},
   "outputs": [
    {
     "name": "stdout",
     "output_type": "stream",
     "text": [
      "[1.5, 2.5, 1.5]\n"
     ]
    }
   ],
   "source": [
    "a = []\n",
    "a.insert(1,1.5)\n",
    "a.insert(1,2.5)\n",
    "a.insert(10,1.5)\n",
    "print(a)"
   ]
  },
  {
   "cell_type": "code",
   "execution_count": 32,
   "metadata": {},
   "outputs": [
    {
     "name": "stdout",
     "output_type": "stream",
     "text": [
      "[1, 2, 4, 5, [6, 7]]\n",
      "[1, 2, 4, 5]\n"
     ]
    }
   ],
   "source": [
    "# 제거\n",
    "a = [1,2,3.5,4,5,[6,7]]\n",
    "a.remove(3.5)  # 원하는 요소를 제거\n",
    "print(a)\n",
    "a.remove([6,7])\n",
    "print(a)"
   ]
  },
  {
   "cell_type": "code",
   "execution_count": 36,
   "metadata": {},
   "outputs": [
    {
     "name": "stdout",
     "output_type": "stream",
     "text": [
      "[1, 2, 3, 4, 5]\n",
      "[1, 2, 3, 4]\n",
      "[1, 3, 4]\n"
     ]
    }
   ],
   "source": [
    "a = [1,2,3,4,5,6]\n",
    "a.pop()   # 마지막 요소를 제거\n",
    "print(a)\n",
    "a.pop()   # 마지막 요소를 제거\n",
    "print(a)\n",
    "a.pop(1)  # 인덱스를 넣어 삭제, 1번 요소를 삭제 , ==> del a[1]\n",
    "print(a)"
   ]
  },
  {
   "cell_type": "code",
   "execution_count": 50,
   "metadata": {},
   "outputs": [
    {
     "name": "stdout",
     "output_type": "stream",
     "text": [
      "[1, 5, 2, 4, 3]\n",
      "[1, 2, 3, 4, 5]\n",
      "[5, 4, 3, 2, 1]\n"
     ]
    }
   ],
   "source": [
    "# 정렬\n",
    "a = [1,5,2,4,3]\n",
    "print(a)\n",
    "\n",
    "a.sort()  # 오름 차순\n",
    "print(a)\n",
    "\n",
    "a.sort(reverse=True)  # 내림 차순\n",
    "print(a)"
   ]
  },
  {
   "cell_type": "code",
   "execution_count": 51,
   "metadata": {},
   "outputs": [
    {
     "name": "stdout",
     "output_type": "stream",
     "text": [
      "0\n"
     ]
    },
    {
     "data": {
      "text/plain": [
       "False"
      ]
     },
     "execution_count": 51,
     "metadata": {},
     "output_type": "execute_result"
    }
   ],
   "source": [
    "num = a.index(5)  # 요소 5의 인덱스 값을 반환\n",
    "print(num)\n",
    "\n",
    "# a.index(6)  # ValueError                                \n",
    "6 in a"
   ]
  },
  {
   "cell_type": "code",
   "execution_count": 52,
   "metadata": {},
   "outputs": [
    {
     "name": "stdout",
     "output_type": "stream",
     "text": [
      "[5, 4, 3, 2, 1]\n",
      "[1, 2, 3, 4, 5]\n"
     ]
    }
   ],
   "source": [
    "print(a)\n",
    "a.reverse()   # a = a[::-1]\n",
    "print(a)"
   ]
  },
  {
   "cell_type": "code",
   "execution_count": 53,
   "metadata": {},
   "outputs": [
    {
     "name": "stdout",
     "output_type": "stream",
     "text": [
      "[1, 2, 3, 4, 5, 6]\n"
     ]
    }
   ],
   "source": [
    "a = [1,2,3]\n",
    "b = [4,5,6]\n",
    "a.extend(b)  # a = a + b\n",
    "print(a)"
   ]
  },
  {
   "cell_type": "code",
   "execution_count": 69,
   "metadata": {},
   "outputs": [
    {
     "name": "stdout",
     "output_type": "stream",
     "text": [
      "[5, 6, 7, 'hello']\n",
      "6\n",
      "hello\n",
      "h\n",
      "h\n",
      "4\n"
     ]
    },
    {
     "data": {
      "text/plain": [
       "2"
      ]
     },
     "execution_count": 69,
     "metadata": {},
     "output_type": "execute_result"
    }
   ],
   "source": [
    "# 중첩(Nested) 리스트 : 리스트 안에 또 다른 리스트가 포함됨\n",
    "a = [1,2,3,4,[5,6,7,'hello']]\n",
    "print(a[4])\n",
    "print(a[4][1])\n",
    "print(a[4][3])\n",
    "print(a[4][3][0])\n",
    "\n",
    "print('hello'[0])\n",
    "print([1,2,3,4][3])\n",
    "a[a[[0,1,2,[1,2,3,4,[0,1,2]]][3][4][:-1][0]]] # 복잡한 표현도 분해해서 해석"
   ]
  },
  {
   "cell_type": "code",
   "execution_count": 84,
   "metadata": {},
   "outputs": [
    {
     "name": "stdout",
     "output_type": "stream",
     "text": [
      "0\n",
      "2\n",
      "4\n",
      "6\n",
      "8\n",
      "10\n",
      "30\n",
      "[6, 8, 10]\n"
     ]
    }
   ],
   "source": [
    "# for문, if문 사용\n",
    "# from 0 to 10 짝수의 합\n",
    "# sum(list(range(0,11,2)))\n",
    "total = 0\n",
    "a = []\n",
    "for k in range(0,11,2):  # 전통적인 스타일\n",
    "    print(k)\n",
    "    total += k\n",
    "    if k > 4:\n",
    "        a.append(k)\n",
    "print(total)\n",
    "print(a)\n",
    "    "
   ]
  },
  {
   "cell_type": "code",
   "execution_count": 81,
   "metadata": {},
   "outputs": [
    {
     "name": "stdout",
     "output_type": "stream",
     "text": [
      "[0, 2, 4, 6, 8, 10]\n",
      "30\n",
      "[0, 1, 2, 3, 4, 5, 6, 7, 8, 9, 10]\n"
     ]
    }
   ],
   "source": [
    "# 리스트 내장(List Comprehension) : 파이썬 스타일(pythonic), 필수 암기!!\n",
    "a = [k for k in range(0,11,2)]\n",
    "print(a)\n",
    "print(sum(a))\n",
    "\n",
    "b = [k for k in range(11)]\n",
    "print(b)"
   ]
  },
  {
   "cell_type": "code",
   "execution_count": 87,
   "metadata": {},
   "outputs": [
    {
     "name": "stdout",
     "output_type": "stream",
     "text": [
      "[0, 2, 4, 6, 8, 10]\n",
      "[6, 8, 10]\n"
     ]
    }
   ],
   "source": [
    "# 조건식이 포함된 리스트 내장\n",
    "a = list(range(0,11,2))\n",
    "print(a)\n",
    "\n",
    "b = [k for k in a if k > 4]\n",
    "print(b)"
   ]
  },
  {
   "cell_type": "code",
   "execution_count": 89,
   "metadata": {},
   "outputs": [
    {
     "name": "stdout",
     "output_type": "stream",
     "text": [
      "[0, 3, 6, 9]\n",
      "[1, 2, 4, 5, 7, 8, 10]\n"
     ]
    }
   ],
   "source": [
    "a = list(range(11))\n",
    "b = [k for k in a if k%3 == 0] # 3의 배수로만 리스트를 생성\n",
    "print(b)\n",
    "b = [k for k in a if k%3 != 0] # 3의 배수로가 아닌 수로 리스트를 생성\n",
    "print(b)"
   ]
  },
  {
   "cell_type": "code",
   "execution_count": 90,
   "metadata": {},
   "outputs": [
    {
     "name": "stdout",
     "output_type": "stream",
     "text": [
      "[6, 9]\n"
     ]
    }
   ],
   "source": [
    "b = [k for k in a if (k%3 == 0) & (k > 4)] # 3의 배수이고 4보다 큰수로 리스트생성\n",
    "print(b)"
   ]
  },
  {
   "cell_type": "code",
   "execution_count": null,
   "metadata": {},
   "outputs": [],
   "source": []
  }
 ],
 "metadata": {
  "kernelspec": {
   "display_name": "Python 3",
   "language": "python",
   "name": "python3"
  },
  "language_info": {
   "codemirror_mode": {
    "name": "ipython",
    "version": 3
   },
   "file_extension": ".py",
   "mimetype": "text/x-python",
   "name": "python",
   "nbconvert_exporter": "python",
   "pygments_lexer": "ipython3",
   "version": "3.7.6"
  }
 },
 "nbformat": 4,
 "nbformat_minor": 4
}
