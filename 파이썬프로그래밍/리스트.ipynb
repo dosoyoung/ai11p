{
 "cells": [
  {
   "cell_type": "markdown",
   "metadata": {},
   "source": [
    "### 리스트(list) : 가변형(mutable), 시퀀스형, 가장 유용한 자료형, [ ]: 대괄호 사용, 요소의 중복허용"
   ]
  },
  {
   "cell_type": "code",
   "execution_count": 48,
   "metadata": {},
   "outputs": [
    {
     "name": "stdout",
     "output_type": "stream",
     "text": [
      "[1, 2, 3, 4, 5, 6]\n",
      "<class 'list'>\n",
      "['a', 'hello', 1, 3.5, [1, 2, 3, 4, 5, 6], 3.5, 1]\n"
     ]
    }
   ],
   "source": [
    "a = [1,2,3,4,5,6]\n",
    "print(a)\n",
    "print(type(a))   # <class 'list'>\n",
    "\n",
    "b = ['a','hello',1,3.5,a,3.5,1]\n",
    "print(b)"
   ]
  },
  {
   "cell_type": "code",
   "execution_count": 8,
   "metadata": {},
   "outputs": [
    {
     "name": "stdout",
     "output_type": "stream",
     "text": [
      "1 2 3 6 5 2 1\n",
      "[10, 2, 3, 4, 5, 6]\n",
      "['hi', 3.14, 0, 0, 0]\n"
     ]
    }
   ],
   "source": [
    "# 인덱싱\n",
    "a = [1,2,3,4,5,6]\n",
    "print(a[0],a[1],a[2],a[-1],a[-2],a[True],a[False])\n",
    "\n",
    "a[0] = 10   # 가변형이므로 요소 변경이 가능하다\n",
    "print(a)\n",
    "\n",
    "a = [0,0,0,0,0]\n",
    "a[0] = 'hi'\n",
    "a[1] = 3.14\n",
    "print(a)"
   ]
  },
  {
   "cell_type": "code",
   "execution_count": 27,
   "metadata": {},
   "outputs": [
    {
     "name": "stdout",
     "output_type": "stream",
     "text": [
      "[1, 2, 3, 4, 5, 6]\n",
      "[2]\n",
      "2\n",
      "[1, 4]\n",
      "[6, 5, 4, 3, 2, 1]\n",
      "[1, 20, 30, 40, 4, 5, 6]\n"
     ]
    }
   ],
   "source": [
    "# 슬라이싱 : a[start:end + 1:step]\n",
    "a = [1,2,3,4,5,6]\n",
    "print(a[:])\n",
    "print(a[1:2])   # List\n",
    "print(a[1])     # int형, scalar\n",
    "\n",
    "print(a[::3])\n",
    "print(a[::-1])  # 요소의 순서를 거꾸로 변경한다\n",
    "\n",
    "a[1:3] = [20,30,40]  # 가변형이므로 요소 변경이 가능하다\n",
    "print(a)"
   ]
  },
  {
   "cell_type": "code",
   "execution_count": 44,
   "metadata": {},
   "outputs": [
    {
     "name": "stdout",
     "output_type": "stream",
     "text": [
      "[0, 1, 2, 3, 4, 5, 6, 7, 8, 9]\n",
      "[0, 1, 2, 3, 4, 5, 6, 7, 8, 9]\n",
      "[0, 1, 2, 3, 4, 5, 6, 7, 8, 9]\n",
      "[-10, -8, -6, -4, -2, 0, 2, 4, 6, 8, 10]\n",
      "[1, 3, 5, 7, 9, 11, 13, 15, 17, 19, 21, 23, 25, 27, 29, 31, 33, 35, 37, 39, 41, 43, 45, 47, 49, 51, 53, 55, 57, 59, 61, 63, 65, 67, 69, 71, 73, 75, 77, 79, 81, 83, 85, 87, 89, 91, 93, 95, 97, 99]\n",
      "[2, 4, 6, 8, 10, 12, 14, 16, 18, 20, 22, 24, 26, 28, 30, 32, 34, 36, 38, 40, 42, 44, 46, 48, 50, 52, 54, 56, 58, 60, 62, 64, 66, 68, 70, 72, 74, 76, 78, 80, 82, 84, 86, 88, 90, 92, 94, 96, 98, 100]\n"
     ]
    }
   ],
   "source": [
    "# range(start,end + 1,step)\n",
    "print(list(range(0,10,1)))\n",
    "print(list(range(10)))\n",
    "print(list(range(0,10)))\n",
    "\n",
    "print(list(range(-10,11,2)))\n",
    "\n",
    "print(list(range(1,100,2))) # 1~100 까지 홀수\n",
    "print(list(range(2,101,2))) # 1~100 까지 짝수"
   ]
  },
  {
   "cell_type": "code",
   "execution_count": 52,
   "metadata": {},
   "outputs": [
    {
     "name": "stdout",
     "output_type": "stream",
     "text": [
      "10\n",
      "55\n",
      "10\n",
      "1\n"
     ]
    }
   ],
   "source": [
    "a = [1,2,3,4,5,6,7,8,9,10]\n",
    "print(len(a))  # 요소의 갯수, byte size가 아니다\n",
    "print(sum(a))  # 요소의 합\n",
    "print(max(a))  # 최대값\n",
    "print(min(a))  # 최소값 "
   ]
  },
  {
   "cell_type": "code",
   "execution_count": 60,
   "metadata": {},
   "outputs": [
    {
     "name": "stdout",
     "output_type": "stream",
     "text": [
      "[1, 2, 3, 3, 4, 5]\n",
      "[1, 2, 3, 1, 2, 3, 1, 2, 3, 1, 2, 3, 1, 2, 3]\n"
     ]
    }
   ],
   "source": [
    "# 연산자 : +, *\n",
    "a = [1,2,3]\n",
    "b = [3,4,5]\n",
    "c = a + b\n",
    "print(c)\n",
    "print(a*5)"
   ]
  },
  {
   "cell_type": "code",
   "execution_count": 62,
   "metadata": {},
   "outputs": [
    {
     "name": "stdout",
     "output_type": "stream",
     "text": [
      "True\n",
      "False\n"
     ]
    }
   ],
   "source": [
    "print(3 in a) \n",
    "print(4 in a)"
   ]
  },
  {
   "cell_type": "code",
   "execution_count": null,
   "metadata": {},
   "outputs": [],
   "source": []
  }
 ],
 "metadata": {
  "kernelspec": {
   "display_name": "Python 3",
   "language": "python",
   "name": "python3"
  },
  "language_info": {
   "codemirror_mode": {
    "name": "ipython",
    "version": 3
   },
   "file_extension": ".py",
   "mimetype": "text/x-python",
   "name": "python",
   "nbconvert_exporter": "python",
   "pygments_lexer": "ipython3",
   "version": "3.7.6"
  }
 },
 "nbformat": 4,
 "nbformat_minor": 4
}
