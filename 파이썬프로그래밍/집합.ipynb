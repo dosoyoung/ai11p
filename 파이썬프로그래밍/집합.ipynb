{
 "cells": [
  {
   "cell_type": "markdown",
   "metadata": {},
   "source": [
    "### 집합(set) : 가변형(mutable), 순서가 없다,{}:중괄호 사용, 중복을 허용하지 않는다"
   ]
  },
  {
   "cell_type": "code",
   "execution_count": 3,
   "metadata": {},
   "outputs": [
    {
     "name": "stdout",
     "output_type": "stream",
     "text": [
      "{1, 2, 3, 4}\n",
      "<class 'set'>\n"
     ]
    }
   ],
   "source": [
    "s = {1,2,3,4}\n",
    "print(s)\n",
    "print(type(s))"
   ]
  },
  {
   "cell_type": "code",
   "execution_count": 7,
   "metadata": {},
   "outputs": [
    {
     "name": "stdout",
     "output_type": "stream",
     "text": [
      "{8, 1, 4, 6}\n"
     ]
    }
   ],
   "source": [
    "s = {4,4,4,6,6,6,1,1,1,8,8,8}\n",
    "print(s)"
   ]
  },
  {
   "cell_type": "code",
   "execution_count": 5,
   "metadata": {},
   "outputs": [
    {
     "name": "stdout",
     "output_type": "stream",
     "text": [
      "[8, 1, 4, 6]\n"
     ]
    }
   ],
   "source": [
    "l = [4,4,4,6,6,6,1,1,1,8,8,8]\n",
    "s = list(set(l))\n",
    "print(s)"
   ]
  },
  {
   "cell_type": "code",
   "execution_count": 8,
   "metadata": {},
   "outputs": [
    {
     "name": "stdout",
     "output_type": "stream",
     "text": [
      "{1, 4, 6, 8, 9}\n"
     ]
    }
   ],
   "source": [
    "# 요소의 추가\n",
    "s = {4,4,4,6,6,6,1,1,1,8,8,8}\n",
    "s.add(9)\n",
    "print(s)"
   ]
  },
  {
   "cell_type": "code",
   "execution_count": 9,
   "metadata": {},
   "outputs": [
    {
     "name": "stdout",
     "output_type": "stream",
     "text": [
      "{0, 1, 2, 4, 6, 8, 9}\n"
     ]
    }
   ],
   "source": [
    "s.update([0,1,2])\n",
    "print(s)"
   ]
  },
  {
   "cell_type": "code",
   "execution_count": 10,
   "metadata": {},
   "outputs": [
    {
     "name": "stdout",
     "output_type": "stream",
     "text": [
      "{0, 1, 2, 4, 6, 8}\n"
     ]
    }
   ],
   "source": [
    "# 요소의 제거\n",
    "s.remove(9)\n",
    "print(s)"
   ]
  },
  {
   "cell_type": "code",
   "execution_count": 12,
   "metadata": {},
   "outputs": [
    {
     "name": "stdout",
     "output_type": "stream",
     "text": [
      "{1, 2, 3, 4, 5, 6, 7, 8, 9, 10}\n",
      "{1, 2, 3, 4, 5, 6, 7, 8, 9, 10}\n"
     ]
    }
   ],
   "source": [
    "# 합집합, 교집합, 차집합, 대칭 차집합\n",
    "s1 = {1,2,3,4,5,6}\n",
    "s2 = {5,6,7,8,9,10}\n",
    "\n",
    "# 합집합 : '|', union()\n",
    "s = s1 | s2\n",
    "print(s)\n",
    "\n",
    "s = s1.union(s2)\n",
    "print(s)"
   ]
  },
  {
   "cell_type": "code",
   "execution_count": 13,
   "metadata": {},
   "outputs": [
    {
     "name": "stdout",
     "output_type": "stream",
     "text": [
      "{5, 6}\n",
      "{5, 6}\n"
     ]
    }
   ],
   "source": [
    "# 교집합 : '&' , intersection()\n",
    "s = s1 & s2\n",
    "print(s)\n",
    "\n",
    "s = s1.intersection(s2)\n",
    "print(s)"
   ]
  },
  {
   "cell_type": "code",
   "execution_count": 15,
   "metadata": {},
   "outputs": [
    {
     "name": "stdout",
     "output_type": "stream",
     "text": [
      "{1, 2, 3, 4}\n",
      "{1, 2, 3, 4}\n"
     ]
    }
   ],
   "source": [
    "# 차집합 : '-', difference()\n",
    "s = s1 - s2\n",
    "print(s)\n",
    "\n",
    "s = s1.difference(s2)\n",
    "print(s)"
   ]
  },
  {
   "cell_type": "code",
   "execution_count": 18,
   "metadata": {},
   "outputs": [
    {
     "name": "stdout",
     "output_type": "stream",
     "text": [
      "{1, 2, 3, 4, 7, 8, 9, 10}\n",
      "{1, 2, 3, 4, 7, 8, 9, 10}\n",
      "{1, 2, 3, 4, 7, 8, 9, 10}\n"
     ]
    }
   ],
   "source": [
    "# 대칭 차집합 : symmetric_difference()\n",
    "s = s1.symmetric_difference(s2)\n",
    "print(s)\n",
    "\n",
    "s = (s1 | s2) - (s1 & s2)\n",
    "print(s)\n",
    "\n",
    "s = (s1 - s2) | (s2 - s1)\n",
    "print(s)"
   ]
  },
  {
   "cell_type": "code",
   "execution_count": 35,
   "metadata": {},
   "outputs": [
    {
     "name": "stdout",
     "output_type": "stream",
     "text": [
      "{1, 4, 9, 16, 25}\n",
      "{'e', 'p', ' ', 'y', 'o', 'h', 'l', 'n', 't'}\n",
      "{'e', 'o'}\n",
      "{'p', 'y', ' ', 'h', 'l', 'n', 't'}\n"
     ]
    }
   ],
   "source": [
    "# 집합 내장(set comprehension)\n",
    "s = {k*k for k in [1,2,3,4,5]}\n",
    "print(s)\n",
    "\n",
    "str1 = 'hello python'\n",
    "s = {v for v in str1}\n",
    "print(s)\n",
    "\n",
    "s = {v for v in str1 if v in 'aeiou'} # 모음만 추출\n",
    "print(s)\n",
    "\n",
    "s = {v for v in str1 if v not in 'aeiou'} # 자음만 추출\n",
    "print(s)\n"
   ]
  }
 ],
 "metadata": {
  "kernelspec": {
   "display_name": "Python 3",
   "language": "python",
   "name": "python3"
  },
  "language_info": {
   "codemirror_mode": {
    "name": "ipython",
    "version": 3
   },
   "file_extension": ".py",
   "mimetype": "text/x-python",
   "name": "python",
   "nbconvert_exporter": "python",
   "pygments_lexer": "ipython3",
   "version": "3.7.6"
  }
 },
 "nbformat": 4,
 "nbformat_minor": 4
}
