{
 "cells": [
  {
   "cell_type": "markdown",
   "metadata": {},
   "source": [
    "### 제어문 : if문, for문, while문, with ~ as 문"
   ]
  },
  {
   "cell_type": "markdown",
   "metadata": {},
   "source": [
    "### if 문"
   ]
  },
  {
   "cell_type": "code",
   "execution_count": 5,
   "metadata": {},
   "outputs": [
    {
     "name": "stdout",
     "output_type": "stream",
     "text": [
      "15\n",
      "++++++\n"
     ]
    }
   ],
   "source": [
    "a = 15\n",
    "\n",
    "if a == 10 :\n",
    "    print('a = 10')\n",
    "    print('------')\n",
    "else:\n",
    "    print(a)\n",
    "    print('++++++')    "
   ]
  },
  {
   "cell_type": "code",
   "execution_count": 9,
   "metadata": {},
   "outputs": [
    {
     "name": "stdout",
     "output_type": "stream",
     "text": [
      "order price: 5000\n"
     ]
    }
   ],
   "source": [
    "order = 'spagetti'\n",
    "\n",
    "if order == 'spagetti':\n",
    "    price = 5000\n",
    "elif order == 'spam' :\n",
    "    price = 6000\n",
    "elif order == 'egg' :\n",
    "    price = 7000\n",
    "else :\n",
    "    price = 0\n",
    "\n",
    "print('order price: %d'%price)    "
   ]
  },
  {
   "cell_type": "code",
   "execution_count": 14,
   "metadata": {},
   "outputs": [
    {
     "name": "stdout",
     "output_type": "stream",
     "text": [
      "order price: 5000\n",
      "order price: 6000\n",
      "order price: 11000\n"
     ]
    }
   ],
   "source": [
    "# dict 사용\n",
    "order = {'spagetti':5000,'spam':6000,'egg':7000}\n",
    "print('order price: %d'%order['spagetti']) \n",
    "print('order price: %d'%order['spam']) \n",
    "print('order price: %d'%(order['spagetti'] + order['spam']))"
   ]
  },
  {
   "cell_type": "code",
   "execution_count": 17,
   "metadata": {},
   "outputs": [
    {
     "name": "stdout",
     "output_type": "stream",
     "text": [
      "20\n"
     ]
    }
   ],
   "source": [
    "# 전통 언어 스타일\n",
    "a = 10\n",
    "if a > 5:\n",
    "    x = a * 2\n",
    "else:\n",
    "    x = a / 2 \n",
    "print(x)    "
   ]
  },
  {
   "cell_type": "code",
   "execution_count": 18,
   "metadata": {},
   "outputs": [
    {
     "name": "stdout",
     "output_type": "stream",
     "text": [
      "20\n"
     ]
    }
   ],
   "source": [
    "# 파이썬 스타일\n",
    "a = 10\n",
    "x = a*2 if a > 5 else a/2\n",
    "print(x)"
   ]
  },
  {
   "cell_type": "code",
   "execution_count": 43,
   "metadata": {},
   "outputs": [
    {
     "name": "stdout",
     "output_type": "stream",
     "text": [
      "20\n"
     ]
    }
   ],
   "source": [
    "# 파이썬 스타일\n",
    "a = 10\n",
    "t = (a/2, a*2)  # 괄호 생략 가능\n",
    "x = t[a>5]    # True:1, False:0 , 조건식을 사용한 index\n",
    "print(x)"
   ]
  },
  {
   "cell_type": "code",
   "execution_count": 45,
   "metadata": {},
   "outputs": [
    {
     "name": "stdout",
     "output_type": "stream",
     "text": [
      "1.5\n"
     ]
    }
   ],
   "source": [
    "# 파이썬 스타일\n",
    "a = 3\n",
    "x = (a/2, a*2)[a>5] \n",
    "print(x)"
   ]
  },
  {
   "cell_type": "code",
   "execution_count": 42,
   "metadata": {},
   "outputs": [
    {
     "name": "stdout",
     "output_type": "stream",
     "text": [
      "짝\n"
     ]
    }
   ],
   "source": [
    "# 파이썬 스타일\n",
    "a = 10\n",
    "x = {False:'짝수',True:'홀수'}[a%2].strip('수')\n",
    "print(x)"
   ]
  },
  {
   "cell_type": "markdown",
   "metadata": {},
   "source": [
    "### for문"
   ]
  },
  {
   "cell_type": "code",
   "execution_count": 50,
   "metadata": {},
   "outputs": [
    {
     "name": "stdout",
     "output_type": "stream",
     "text": [
      "0\n",
      "1\n",
      "2\n",
      "3\n",
      "4\n",
      "5\n",
      "6\n",
      "7\n",
      "8\n",
      "9\n",
      "0\n",
      "1\n",
      "2\n",
      "3\n",
      "4\n",
      "5\n",
      "6\n",
      "7\n",
      "8\n"
     ]
    }
   ],
   "source": [
    "for k in range(10):\n",
    "    print(k)\n",
    "    \n",
    "l = [0,1,2,3,4,5,6,7,8,9]\n",
    "for k in l:\n",
    "    print(k)"
   ]
  },
  {
   "cell_type": "code",
   "execution_count": null,
   "metadata": {},
   "outputs": [],
   "source": []
  }
 ],
 "metadata": {
  "kernelspec": {
   "display_name": "Python 3",
   "language": "python",
   "name": "python3"
  },
  "language_info": {
   "codemirror_mode": {
    "name": "ipython",
    "version": 3
   },
   "file_extension": ".py",
   "mimetype": "text/x-python",
   "name": "python",
   "nbconvert_exporter": "python",
   "pygments_lexer": "ipython3",
   "version": "3.7.6"
  }
 },
 "nbformat": 4,
 "nbformat_minor": 4
}
