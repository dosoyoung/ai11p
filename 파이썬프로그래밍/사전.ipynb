{
 "cells": [
  {
   "cell_type": "markdown",
   "metadata": {},
   "source": [
    "### 사전(dict) : 가변형(mutable), 순서가 없다, 연관형, 매핑형, {}: 중괄호 사용\n",
    "#### {key:value,.....}, key는 반드시 immutable형 이어야한다(숫자형,문자열,튜플),\n",
    "#### value는 mutable,immutable 모두 사용 가능하다"
   ]
  },
  {
   "cell_type": "code",
   "execution_count": 5,
   "metadata": {},
   "outputs": [
    {
     "name": "stdout",
     "output_type": "stream",
     "text": [
      "{'name': '홍길동', 'age': 30, 'phone': '010-1234-1234', 'birth': '2020-07-06', 10: 100, (1, 2): 'hi'}\n",
      "<class 'dict'>\n"
     ]
    }
   ],
   "source": [
    "a = {'name':'홍길동', 'age':30, 'phone':'010-1234-1234', 'birth':'2020-07-06',10:100,(1,2):'hi'}\n",
    "print(a)\n",
    "print(type(a))"
   ]
  },
  {
   "cell_type": "code",
   "execution_count": 9,
   "metadata": {},
   "outputs": [
    {
     "name": "stdout",
     "output_type": "stream",
     "text": [
      "홍길동 30 010-1234-1234 2020-07-06 100 hi\n"
     ]
    }
   ],
   "source": [
    "# 요소 접근  : a[key]\n",
    "print(a['name'],a['age'],a['phone'],a['birth'],a[10], a[(1,2)])"
   ]
  },
  {
   "cell_type": "code",
   "execution_count": 13,
   "metadata": {},
   "outputs": [
    {
     "name": "stdout",
     "output_type": "stream",
     "text": [
      "{'name': '김철수', 'age': 20, 'phone': '010-1234-1234', 'birth': '2020-07-06', 10: 500, (1, 2): 'hi'}\n"
     ]
    }
   ],
   "source": [
    "# 요소 수정\n",
    "a['name'] = '김철수'\n",
    "a['age'] = 20\n",
    "a[10] = 500\n",
    "print(a)"
   ]
  },
  {
   "cell_type": "code",
   "execution_count": 24,
   "metadata": {},
   "outputs": [
    {
     "name": "stdout",
     "output_type": "stream",
     "text": [
      "{'name': '김철수', 'age': 20, 'phone': '010-1234-1234', 'birth': '2020-07-06', 10: 500, (1, 2): 'hi', '직업': '학생', (1, 2, 3): '튜플데이터', '주소': '서울시'}\n"
     ]
    }
   ],
   "source": [
    "# 요소 추가\n",
    "a['주소'] = '서울시'\n",
    "a['직업'] = '학생'\n",
    "a[(1,2,3)] = '튜플데이터'\n",
    "# a[[1,2,3]] = '리스트데이터' # TypeError: unhashable type: 'list'\n",
    "print(a)"
   ]
  },
  {
   "cell_type": "code",
   "execution_count": 25,
   "metadata": {},
   "outputs": [
    {
     "name": "stdout",
     "output_type": "stream",
     "text": [
      "{'name': '김철수', 'age': 20, 'phone': '010-1234-1234', 'birth': '2020-07-06', 10: 500, (1, 2): 'hi', '직업': '학생'}\n"
     ]
    }
   ],
   "source": [
    "# 요소 제거\n",
    "del a['주소']\n",
    "del a[(1,2,3)]\n",
    "print(a)"
   ]
  },
  {
   "cell_type": "code",
   "execution_count": 33,
   "metadata": {},
   "outputs": [
    {
     "name": "stdout",
     "output_type": "stream",
     "text": [
      "dict_keys(['name', 'age', 'phone', 'birth', 10, (1, 2), '직업'])\n",
      "dict_values(['김철수', 20, '010-1234-1234', '2020-07-06', 500, 'hi', '학생'])\n",
      "dict_items([('name', '김철수'), ('age', 20), ('phone', '010-1234-1234'), ('birth', '2020-07-06'), (10, 500), ((1, 2), 'hi'), ('직업', '학생')])\n"
     ]
    }
   ],
   "source": [
    "# 연산자\n",
    "print(a.keys())    # key 값들만 dict_keys타입으로 반환\n",
    "print(a.values())  # value 값들만 dict_values타입으로 반환\n",
    "print(a.items())   # key와 value값을 튜플로 만들어 dict_items 타입으로 반환"
   ]
  },
  {
   "cell_type": "code",
   "execution_count": 38,
   "metadata": {},
   "outputs": [
    {
     "name": "stdout",
     "output_type": "stream",
     "text": [
      "김철수\n",
      "김철수\n",
      "None\n",
      "독서\n"
     ]
    }
   ],
   "source": [
    "print(a['name'])\n",
    "print(a.get('name'))  # 동일한 결과\n",
    "\n",
    "# a['hobby']   # KeyError: 'hobby'\n",
    "print(a.get('hobby')) # key 가 없으면 None을 반환\n",
    "\n",
    "print(a.get('hobby','독서')) # key 'hobby'가 없으면 '독서'를 반환"
   ]
  },
  {
   "cell_type": "code",
   "execution_count": 41,
   "metadata": {},
   "outputs": [
    {
     "name": "stdout",
     "output_type": "stream",
     "text": [
      "{'name': '김철수', 'age': 20, 'phone': '010-1234-1234', 'birth': '2020-07-06', 10: 500, (1, 2): 'hi', '직업': '학생', 'gender': '남성', 'ten': 10}\n"
     ]
    }
   ],
   "source": [
    "# 추가\n",
    "d = {'gender':'남성', 'ten':10}\n",
    "a.update(d)   # 새로운 dict의 요소를 추가\n",
    "print(a)"
   ]
  },
  {
   "cell_type": "code",
   "execution_count": 42,
   "metadata": {},
   "outputs": [
    {
     "name": "stdout",
     "output_type": "stream",
     "text": [
      "10\n",
      "{'name': '김철수', 'age': 20, 'phone': '010-1234-1234', 'birth': '2020-07-06', 10: 500, (1, 2): 'hi', '직업': '학생', 'gender': '남성'}\n"
     ]
    }
   ],
   "source": [
    "# 요소 제거\n",
    "ret = a.pop('ten')\n",
    "print(ret)\n",
    "print(a)"
   ]
  },
  {
   "cell_type": "code",
   "execution_count": 43,
   "metadata": {},
   "outputs": [
    {
     "name": "stdout",
     "output_type": "stream",
     "text": [
      "{}\n",
      "<class 'dict'>\n"
     ]
    }
   ],
   "source": [
    "a.clear() # 빈 사전으로 변환\n",
    "print(a)\n",
    "print(type(a))"
   ]
  },
  {
   "cell_type": "code",
   "execution_count": 48,
   "metadata": {},
   "outputs": [
    {
     "name": "stdout",
     "output_type": "stream",
     "text": [
      "{'a': 1, 'b': 1, 'c': 1, 'd': 1, 'e': 1, 'f': 1, 'g': 1}\n",
      "<class 'dict'>\n"
     ]
    }
   ],
   "source": [
    "# 사전 내장(dict comprehension)\n",
    "a = {k:1 for k in 'abcdefg'}\n",
    "print(a)\n",
    "print(type(a))"
   ]
  },
  {
   "cell_type": "code",
   "execution_count": 49,
   "metadata": {},
   "outputs": [
    {
     "name": "stdout",
     "output_type": "stream",
     "text": [
      "{'a': 1, 'b': 1, 'd': 1, 'e': 1, 'f': 1, 'g': 1}\n"
     ]
    }
   ],
   "source": [
    "# 조건식을 사용\n",
    "a = {k:1 for k in 'abcdefg' if k != 'c'}\n",
    "print(a)"
   ]
  },
  {
   "cell_type": "code",
   "execution_count": 50,
   "metadata": {},
   "outputs": [
    {
     "name": "stdout",
     "output_type": "stream",
     "text": [
      "{'name': 0, 'age': 0, 'phone': 0, 'birth': 0, 10: 0, (1, 2): 0, '직업': 0}\n"
     ]
    }
   ],
   "source": [
    "b = ['name', 'age', 'phone', 'birth', 10, (1, 2), '직업']\n",
    "a = {k:0 for k in b}\n",
    "print(a)"
   ]
  },
  {
   "cell_type": "code",
   "execution_count": 54,
   "metadata": {},
   "outputs": [
    {
     "name": "stdout",
     "output_type": "stream",
     "text": [
      "[('name', '김철수'), ('age', 20), ('phone', '010-1234-1234'), ('birth', '2020-07-06'), (10, 500), ((1, 2), 'hi'), ('직업', '학생')]\n",
      "{'age', (1, 2), 'name', 10, 'phone', 'birth', '직업'}\n"
     ]
    }
   ],
   "source": [
    "a1 = ['name', 'age', 'phone', 'birth', 10, (1, 2), '직업']\n",
    "a2 = ['김철수', 20, '010-1234-1234', '2020-07-06', 500, 'hi', '학생']\n",
    "\n",
    "# a = {a1[0]:a2[0],a1[1]:a2[1],........}\n",
    "# zip() 함수\n",
    "print(list(zip(a1,a2)))\n",
    "\n",
    "# 두개의 서로 다른 리스트를 사용하여 한 개의 사전을 생성\n",
    "a = {k:v for k,v in zip(a1,a2)}\n",
    "print(a)"
   ]
  },
  {
   "cell_type": "code",
   "execution_count": 58,
   "metadata": {},
   "outputs": [
    {
     "name": "stdout",
     "output_type": "stream",
     "text": [
      "0 a\n",
      "1 b\n",
      "2 c\n",
      "3 d\n",
      "4 e\n",
      "5 f\n",
      "6 g\n",
      "{'a': 0, 'b': 1, 'c': 2, 'd': 3, 'e': 4, 'f': 5, 'g': 6}\n"
     ]
    }
   ],
   "source": [
    "# enumerate() 함수 : 인덱스와 요소값을 함께 튜플로 반환\n",
    "s = 'abcdefg'\n",
    "for i,k in enumerate(s):\n",
    "    print(i,k)\n",
    "    \n",
    "a = {k:m for m,k in enumerate(s)}\n",
    "print(a)"
   ]
  },
  {
   "cell_type": "code",
   "execution_count": null,
   "metadata": {},
   "outputs": [],
   "source": []
  }
 ],
 "metadata": {
  "kernelspec": {
   "display_name": "Python 3",
   "language": "python",
   "name": "python3"
  },
  "language_info": {
   "codemirror_mode": {
    "name": "ipython",
    "version": 3
   },
   "file_extension": ".py",
   "mimetype": "text/x-python",
   "name": "python",
   "nbconvert_exporter": "python",
   "pygments_lexer": "ipython3",
   "version": "3.7.6"
  }
 },
 "nbformat": 4,
 "nbformat_minor": 4
}
